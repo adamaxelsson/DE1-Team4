{
 "cells": [
  {
   "cell_type": "code",
   "execution_count": 1,
   "id": "c8cb498c-a012-4ca1-b043-d037326029ef",
   "metadata": {
    "tags": []
   },
   "outputs": [
    {
     "name": "stderr",
     "output_type": "stream",
     "text": [
      "Using Spark's default log4j profile: org/apache/spark/log4j-defaults.properties\n",
      "Setting default log level to \"WARN\".\n",
      "To adjust logging level use sc.setLogLevel(newLevel). For SparkR, use setLogLevel(newLevel).\n",
      "22/03/08 12:59:20 WARN NativeCodeLoader: Unable to load native-hadoop library for your platform... using builtin-java classes where applicable\n",
      "22/03/08 12:59:24 WARN ExecutorAllocationManager: Dynamic allocation without a shuffle service is an experimental feature.\n"
     ]
    }
   ],
   "source": []
  },
  {
   "cell_type": "code",
   "execution_count": 2,
   "id": "7c53a4b8-f745-4891-b1ad-33a2b3c0b5b0",
   "metadata": {},
   "outputs": [],
   "source": [
    "\n",
    "\n",
    "from pyspark.sql import SparkSession\n",
    "from pyspark import SparkConf\n",
    "from pyspark.sql import SparkSession\n",
    "from operator import add\n",
    "from pyspark.sql.functions import *\n",
    "spark_session = SparkSession\\\n",
    "        .builder\\\n",
    "        .master(\"spark://192.168.2.11:7077\") \\\n",
    "        .appName(\"test\")\\\n",
    "        .config(\"spark.dynamicAllocation.enabled\", True)\\\n",
    "        .config(\"spark.dynamicAllocation.shuffleTracking.enabled\",True)\\\n",
    "        .config(\"spark.shuffle.service.enabled\", False)\\\n",
    "        .config(\"spark.dynamicAllocation.executorIdleTimeout\",\"30s\")\\\n",
    "        .config(\"spark.executor.cores\",1)\\\n",
    "        .config(\"spark.cores.max\",2)\\\n",
    "        .config(\"spark.driver.port\",9998)\\\n",
    "        .config(\"spark.blockManager.port\",10005)\\\n",
    "        .getOrCreate()\n",
    "        #.config(\"spark.executor.memory\", \"1gb\")\\  ##?????????\n",
    "        #.config(\"spark.dynamicAllocation.minExecutors\", 1)\n",
    "        \n",
    "spark_context = spark_session.sparkContext\n",
    "\n",
    "spark_context.setLogLevel(\"ERROR\")\n",
    "\n",
    "reddit = spark_context.textFile(\"hdfs://192.168.2.11:9000/user/ubuntu/redditcomments/RC_2005-12\")\n",
    "\n"
   ]
  },
  {
   "cell_type": "code",
   "execution_count": 3,
   "id": "afc5d099-76d6-4a91-906a-99f1e4ffd13a",
   "metadata": {},
   "outputs": [
    {
     "name": "stderr",
     "output_type": "stream",
     "text": [
      "                                                                                \r"
     ]
    },
    {
     "name": "stdout",
     "output_type": "stream",
     "text": [
      "root\n",
      " |-- author: string (nullable = true)\n",
      " |-- author_flair_css_class: string (nullable = true)\n",
      " |-- author_flair_text: string (nullable = true)\n",
      " |-- body: string (nullable = true)\n",
      " |-- controversiality: long (nullable = true)\n",
      " |-- created_utc: long (nullable = true)\n",
      " |-- distinguished: string (nullable = true)\n",
      " |-- edited: boolean (nullable = true)\n",
      " |-- gilded: long (nullable = true)\n",
      " |-- id: string (nullable = true)\n",
      " |-- link_id: string (nullable = true)\n",
      " |-- parent_id: string (nullable = true)\n",
      " |-- retrieved_on: long (nullable = true)\n",
      " |-- score: long (nullable = true)\n",
      " |-- stickied: boolean (nullable = true)\n",
      " |-- subreddit: string (nullable = true)\n",
      " |-- subreddit_id: string (nullable = true)\n",
      " |-- ups: long (nullable = true)\n",
      "\n"
     ]
    }
   ],
   "source": [
    "reddit_df = spark_session.read.json(reddit)\n",
    "reddit_df.printSchema()"
   ]
  },
  {
   "cell_type": "code",
   "execution_count": 4,
   "id": "113dd381-3b0b-454c-9df3-466f02a5015d",
   "metadata": {},
   "outputs": [
    {
     "name": "stderr",
     "output_type": "stream",
     "text": [
      "[Stage 1:>                                                          (0 + 1) / 1]\r"
     ]
    },
    {
     "name": "stdout",
     "output_type": "stream",
     "text": [
      "+--------------------+----------------+----------+------------+-----------+\n",
      "|                body|controversiality| subreddit|subreddit_id|created_utc|\n",
      "+--------------------+----------------+----------+------------+-----------+\n",
      "|A look at Vietnam...|               0|reddit.com|        t5_6| 1134365188|\n",
      "+--------------------+----------------+----------+------------+-----------+\n",
      "only showing top 1 row\n",
      "\n"
     ]
    },
    {
     "name": "stderr",
     "output_type": "stream",
     "text": [
      "                                                                                \r"
     ]
    }
   ],
   "source": [
    "reddit_df = reddit_df.select(\"body\", \"controversiality\", \"subreddit\", \"subreddit_id\", \"created_utc\")\n",
    "reddit_df.show(1)"
   ]
  },
  {
   "cell_type": "code",
   "execution_count": 10,
   "id": "8c72e50e-10b7-4e5c-a25e-f3055a9b7452",
   "metadata": {},
   "outputs": [
    {
     "name": "stdout",
     "output_type": "stream",
     "text": [
      "+------------+---------------------+----------------+\n",
      "|subreddit_id|avg(controversiality)|count(subreddit)|\n",
      "+------------+---------------------+----------------+\n",
      "|        t5_6| 0.046511627906976744|            1075|\n",
      "+------------+---------------------+----------------+\n",
      "\n",
      "None\n"
     ]
    }
   ],
   "source": [
    "\n",
    "contro_subreddit = reddit_df.select(\"controversiality\", \"subreddit_id\", \"subreddit\")\n",
    "\n",
    "avg_controversial = contro_subreddit.groupBy(\"subreddit_id\").agg(avg(\"controversiality\"), count(\"subreddit\"))\n",
    "    \n",
    "avg_controversial_sorted = avg_controversial.orderBy(\"avg(controversiality)\",ascending=False)\n",
    "print(avg_controversial_sorted.show(10))\n",
    "\n"
   ]
  },
  {
   "cell_type": "code",
   "execution_count": 24,
   "id": "167448db-5c14-4c34-b398-f43a9af5043c",
   "metadata": {},
   "outputs": [
    {
     "name": "stdout",
     "output_type": "stream",
     "text": [
      "+----------------+\n",
      "|controversiality|\n",
      "+----------------+\n",
      "|               1|\n",
      "|               1|\n",
      "|               1|\n",
      "|               1|\n",
      "|               1|\n",
      "|               1|\n",
      "|               1|\n",
      "|               1|\n",
      "|               1|\n",
      "|               1|\n",
      "|               1|\n",
      "|               1|\n",
      "|               1|\n",
      "|               1|\n",
      "|               1|\n",
      "|               1|\n",
      "|               1|\n",
      "|               1|\n",
      "|               1|\n",
      "|               1|\n",
      "+----------------+\n",
      "only showing top 20 rows\n",
      "\n",
      "None\n"
     ]
    }
   ],
   "source": [
    "test = reddit_df.select(\"controversiality\").where(col(\"controversiality\") == 1)\n",
    "print(test.show())"
   ]
  },
  {
   "cell_type": "code",
   "execution_count": 25,
   "id": "113cdb79-1c73-4502-9ce6-0fab5f3a051f",
   "metadata": {},
   "outputs": [
    {
     "name": "stdout",
     "output_type": "stream",
     "text": [
      "+------------+---------------------+----------------+\n",
      "|subreddit_id|avg(controversiality)|count(subreddit)|\n",
      "+------------+---------------------+----------------+\n",
      "|        t5_6| 0.046511627906976744|            1075|\n",
      "+------------+---------------------+----------------+\n",
      "\n",
      "None\n"
     ]
    }
   ],
   "source": [
    "print(avg_controversial_sorted.show(10))\n"
   ]
  }
 ],
 "metadata": {
  "kernelspec": {
   "display_name": "Python 3 (ipykernel)",
   "language": "python",
   "name": "python3"
  },
  "language_info": {
   "codemirror_mode": {
    "name": "ipython",
    "version": 3
   },
   "file_extension": ".py",
   "mimetype": "text/x-python",
   "name": "python",
   "nbconvert_exporter": "python",
   "pygments_lexer": "ipython3",
   "version": "3.8.10"
  }
 },
 "nbformat": 4,
 "nbformat_minor": 5
}
