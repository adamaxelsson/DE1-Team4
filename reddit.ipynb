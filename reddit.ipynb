{
 "cells": [
  {
   "cell_type": "code",
   "execution_count": 1,
   "id": "c8cb498c-a012-4ca1-b043-d037326029ef",
   "metadata": {
    "tags": []
   },
   "outputs": [
    {
     "name": "stderr",
     "output_type": "stream",
     "text": [
      "Using Spark's default log4j profile: org/apache/spark/log4j-defaults.properties\n",
      "Setting default log level to \"WARN\".\n",
      "To adjust logging level use sc.setLogLevel(newLevel). For SparkR, use setLogLevel(newLevel).\n",
      "22/03/08 12:59:20 WARN NativeCodeLoader: Unable to load native-hadoop library for your platform... using builtin-java classes where applicable\n",
      "22/03/08 12:59:24 WARN ExecutorAllocationManager: Dynamic allocation without a shuffle service is an experimental feature.\n"
     ]
    }
   ],
   "source": []
  },
  {
   "cell_type": "code",
   "execution_count": 13,
   "id": "7c53a4b8-f745-4891-b1ad-33a2b3c0b5b0",
   "metadata": {},
   "outputs": [
    {
     "name": "stderr",
     "output_type": "stream",
     "text": [
      "                                                                                \r"
     ]
    }
   ],
   "source": [
    "\n",
    "\n",
    "from pyspark.sql import SparkSession\n",
    "from pyspark import SparkConf\n",
    "from pyspark.sql import SparkSession\n",
    "from operator import add\n",
    "from pyspark.sql.functions import *\n",
    "spark_session = SparkSession\\\n",
    "        .builder\\\n",
    "        .master(\"spark://192.168.2.11:7077\") \\\n",
    "        .appName(\"test\")\\\n",
    "        .config(\"spark.dynamicAllocation.enabled\", True)\\\n",
    "        .config(\"spark.dynamicAllocation.shuffleTracking.enabled\",True)\\\n",
    "        .config(\"spark.shuffle.service.enabled\", False)\\\n",
    "        .config(\"spark.dynamicAllocation.executorIdleTimeout\",\"30s\")\\\n",
    "        .config(\"spark.executor.cores\",1)\\\n",
    "        .config(\"spark.cores.max\",4)\\\n",
    "        .config(\"spark.driver.port\",9998)\\\n",
    "        .config(\"spark.blockManager.port\",10005)\\\n",
    "        .getOrCreate()\n",
    "        #.config(\"spark.executor.memory\", \"1gb\")\\  ##?????????\n",
    "        #.config(\"spark.dynamicAllocation.minExecutors\", 1)\n",
    "        \n",
    "spark_context = spark_session.sparkContext\n",
    "\n",
    "spark_context.setLogLevel(\"ERROR\")\n",
    "\n",
    "reddit = spark_context.textFile(\"hdfs://192.168.2.11:9000/user/ubuntu/redditcomments/RC_2005-12\").cache()\n",
    "reddit_df = spark_session.read.json(reddit)\n"
   ]
  },
  {
   "cell_type": "code",
   "execution_count": 5,
   "id": "afc5d099-76d6-4a91-906a-99f1e4ffd13a",
   "metadata": {},
   "outputs": [
    {
     "name": "stderr",
     "output_type": "stream",
     "text": [
      "22/03/11 09:31:40 ERROR TaskSchedulerImpl: Lost executor 3 on 192.168.2.11: Remote RPC client disassociated. Likely due to containers exceeding thresholds, or network issues. Check driver logs for WARN messages.\n",
      "22/03/11 09:32:54 ERROR TaskSchedulerImpl: Lost executor 18 on 192.168.2.11: Remote RPC client disassociated. Likely due to containers exceeding thresholds, or network issues. Check driver logs for WARN messages.\n",
      "[Stage 0:=======================================================> (52 + 1) / 53]\r"
     ]
    },
    {
     "name": "stdout",
     "output_type": "stream",
     "text": [
      "root\n",
      " |-- archived: boolean (nullable = true)\n",
      " |-- author: string (nullable = true)\n",
      " |-- author_flair_css_class: string (nullable = true)\n",
      " |-- author_flair_text: string (nullable = true)\n",
      " |-- body: string (nullable = true)\n",
      " |-- controversiality: long (nullable = true)\n",
      " |-- created_utc: string (nullable = true)\n",
      " |-- distinguished: string (nullable = true)\n",
      " |-- downs: long (nullable = true)\n",
      " |-- edited: string (nullable = true)\n",
      " |-- gilded: long (nullable = true)\n",
      " |-- id: string (nullable = true)\n",
      " |-- link_id: string (nullable = true)\n",
      " |-- name: string (nullable = true)\n",
      " |-- parent_id: string (nullable = true)\n",
      " |-- retrieved_on: long (nullable = true)\n",
      " |-- score: long (nullable = true)\n",
      " |-- score_hidden: boolean (nullable = true)\n",
      " |-- subreddit: string (nullable = true)\n",
      " |-- subreddit_id: string (nullable = true)\n",
      " |-- ups: long (nullable = true)\n",
      "\n"
     ]
    },
    {
     "name": "stderr",
     "output_type": "stream",
     "text": [
      "                                                                                \r"
     ]
    }
   ],
   "source": [
    "reddit_df = spark_session.read.json(reddit)\n",
    "reddit_df.printSchema()"
   ]
  },
  {
   "cell_type": "code",
   "execution_count": null,
   "id": "113dd381-3b0b-454c-9df3-466f02a5015d",
   "metadata": {},
   "outputs": [
    {
     "name": "stderr",
     "output_type": "stream",
     "text": [
      "[Stage 1:>                                                          (0 + 1) / 1]\r"
     ]
    }
   ],
   "source": [
    "reddit_df = reddit_df.select(\"body\", \"controversiality\", \"subreddit\", \"subreddit_id\", \"created_utc\")\n",
    "reddit_df.show(1)"
   ]
  },
  {
   "cell_type": "code",
   "execution_count": 55,
   "id": "01e36980-5ece-42b2-9ae2-21b43c334838",
   "metadata": {},
   "outputs": [
    {
     "name": "stdout",
     "output_type": "stream",
     "text": [
      "+---------------+----------------------+-----------------+--------------------+----------------+-----------+-------------+------+------+---+--------+---------+------------+-----+--------+----------+------------+---+\n",
      "|         author|author_flair_css_class|author_flair_text|                body|controversiality|created_utc|distinguished|edited|gilded| id| link_id|parent_id|retrieved_on|score|stickied| subreddit|subreddit_id|ups|\n",
      "+---------------+----------------------+-----------------+--------------------+----------------+-----------+-------------+------+------+---+--------+---------+------------+-----+--------+----------+------------+---+\n",
      "|           frjo|                  null|             null|A look at Vietnam...|               0| 1134365188|         null| false|     0|c13|t3_17863| t3_17863|  1473738411|    2|   false|reddit.com|        t5_6|  2|\n",
      "|        zse7zse|                  null|             null|The site states \"...|               0| 1134365725|         null| false|     0|c14|t3_17866| t3_17866|  1473738411|    1|   false|reddit.com|        t5_6|  1|\n",
      "|           b0se|                  null|             null|I donât know wh...|               0| 1134371664|         null| false|     0|c20|t3_17878| t3_17878|  1473738413|    1|   false|reddit.com|        t5_6|  1|\n",
      "|     richardk74|                  null|             null|Making websites r...|               0| 1134380167|         null| false|     0|c22|t3_17901| t3_17901|  1473738413|    1|   false|reddit.com|        t5_6|  1|\n",
      "|       kn0thing|                  null|             null|On the bright sid...|               0| 1134381378|         null| false|     0|c24|t3_17830| t3_17830|  1473738413|    1|   false|reddit.com|        t5_6|  1|\n",
      "|        bugbear|                  null|             null|Like a lot of peo...|               0| 1134384119|         null| false|     0|c26|t3_17844| t3_17844|  1473738413|    8|   false|reddit.com|        t5_6|  8|\n",
      "|        AaronSw|                  null|             null|[Here's the copy ...|               0| 1134386498|         null| false|     0|c35|t3_17844|   t1_c33|  1473738413|   12|   false|reddit.com|        t5_6| 12|\n",
      "|        AaronSw|                  null|             null|You can rank the ...|               0| 1134386601|         null| false|     0|c37|t3_17844|   t1_c36|  1473738413|    7|   false|reddit.com|        t5_6|  7|\n",
      "|        bugbear|                  null|             null|As Aaronsw points...|               0| 1134391358|         null| false|     0|c50|t3_17844|   t1_c36|  1473738414|   23|   false|reddit.com|        t5_6| 23|\n",
      "|       charlieb|                  null|             null|There's nothing l...|               1| 1134391604|         null| false|     2|c51|t3_17913| t3_17913|  1473738414|    2|   false|reddit.com|        t5_6|  2|\n",
      "|         dylanm|                  null|             null|Wonderful! And it...|               0| 1134394551|         null| false|     0|c61|t3_17913| t3_17913|  1473738415|    3|   false|reddit.com|        t5_6|  3|\n",
      "|theycallmemorty|                  null|             null|I would like it b...|               0| 1134395180|         null| false|     0|c62|t3_17913| t3_17913|  1473738415|    6|   false|reddit.com|        t5_6|  6|\n",
      "|         dylanm|                  null|             null|I'm not sure what...|               0| 1134395435|         null| false|     0|c64|t3_17969| t3_17969|  1473738415|    1|   false|reddit.com|        t5_6|  1|\n",
      "|       charlieb|                  null|             null|Have you read sla...|               1| 1134395509|         null| false|     0|c66|t3_17913| t3_17913|  1473738415|    2|   false|reddit.com|        t5_6|  2|\n",
      "|         senzei|                  null|             null|Evidently the \"po...|               0| 1134395905|         null| false|     0|c71|t3_17921| t3_17921|  1473738416|    1|   false|reddit.com|        t5_6|  1|\n",
      "|         dylanm|                  null|             null|Agreed. And I'd l...|               0| 1134397443|         null| false|     0|c77|t3_17913|   t1_c74|  1473738416|    3|   false|reddit.com|        t5_6|  3|\n",
      "|     saugerties|                  null|             null|This site is a gr...|               0| 1134398659|         null| false|     0|c78|t3_17987| t3_17987|  1473738416|    1|   false|reddit.com|        t5_6|  1|\n",
      "|         dylanm|                  null|             null|An interesting ar...|               0| 1134398933|         null| false|     0|c80|t3_17978| t3_17978|  1473738416|    5|   false|reddit.com|        t5_6|  5|\n",
      "|        AaronSw|                  null|             null|It is a standard:...|               0| 1134399093|         null| false|     0|c82|t3_17913|   t1_c76|  1473738416|    7|   false|reddit.com|        t5_6|  7|\n",
      "|      [deleted]|                  null|             null|On a few occasion...|               0| 1134399620|         null| false|     0|c89|t3_17913| t3_17913|  1473738416|   12|   false|reddit.com|        t5_6| 12|\n",
      "+---------------+----------------------+-----------------+--------------------+----------------+-----------+-------------+------+------+---+--------+---------+------------+-----+--------+----------+------------+---+\n",
      "only showing top 20 rows\n",
      "\n",
      "None\n",
      "+---------------------+\n",
      "|sum(controversiality)|\n",
      "+---------------------+\n",
      "|                   16|\n",
      "+---------------------+\n",
      "\n",
      "None\n",
      "Democrats controversial ratio: 0.046511627906976744\n",
      "Republicans controversial ratio: 0.036613272311212815\n"
     ]
    }
   ],
   "source": [
    "from pyspark.sql.functions import *\n",
    "from pyspark.sql.functions import sum\n",
    "\n",
    "republicanReddits = reddit_df.filter(col(\"body\").contains(\"and\")\\\n",
    "                                     | col(\"body\").contains(\"trump\")\\\n",
    "                                     | col(\"body\").contains(\"Republican\")\\\n",
    "                                     | col(\"body\").contains(\"republican\"))\n",
    "print(republicanReddits.show())\n",
    "a = republicanReddits.select(sum(\"controversiality\"))\n",
    "print(a.show())\n",
    "controversialRepublicanRatio = republicanReddits.select(sum(\"controversiality\")).first()[0] / republicanReddits.count()\n",
    "\n",
    "\n",
    "democratReddits = reddit_df.filter(col(\"body\").contains(\"is\")\\\n",
    "                                   | col(\"body\").contains(\"hillary\") \\\n",
    "                                   | col(\"body\").contains(\"Democrat\")\\\n",
    "                                   | col(\"body\").contains(\"democrat\"))\n",
    "controversialDemocratRatio = reddit_df.select(sum(\"controversiality\")).first()[0] / reddit_df.count()\n",
    "\n",
    "print(f\"Democrats controversial ratio: {controversialDemocratRatio}\")\n",
    "print(f\"Republicans controversial ratio: {controversialRepublicanRatio}\")"
   ]
  },
  {
   "cell_type": "code",
   "execution_count": 56,
   "id": "7d41e599-6a4c-4c5c-ae1a-38bbaaba7f1d",
   "metadata": {},
   "outputs": [
    {
     "data": {
      "image/png": "[encoded data removed]",
      "text/plain": [
       "<Figure size 432x288 with 1 Axes>"
      ]
     },
     "metadata": {
      "needs_background": "light"
     },
     "output_type": "display_data"
    }
   ],
   "source": [
    "from pyspark.sql import functions as F\n",
    "from pyspark.sql.types import LongType\n",
    "import matplotlib.pyplot as plt\n",
    "\n",
    "democratReddits = democratReddits.withColumn(\"created_utc\", F.to_utc_timestamp(F.from_unixtime(F.col(\"created_utc\").cast(LongType()),'yyyy-MM-dd'),'EST'))\n",
    "controDemocratOverTime = democratReddits.groupBy(\"created_utc\").agg(avg(\"controversiality\")).orderBy(\"created_utc\")\n",
    "\n",
    "republicanReddits = democratReddits.withColumn(\"created_utc\", F.to_utc_timestamp(F.from_unixtime(F.col(\"created_utc\").cast(LongType()),'yyyy-MM-dd'),'EST'))\n",
    "controRepublicanOverTime = democratReddits.groupBy(\"created_utc\").agg(avg(\"controversiality\")).orderBy(\"created_utc\")\n",
    "\n",
    "v = list(range(1, len(controDemocratOverTime.select(\"created_utc\").collect()) + 1))\n",
    "plt.plot(v, controDemocratOverTime.select(\"avg(controversiality)\").collect())\n",
    "\n",
    "\n",
    "plt.show()"
   ]
  },
  {
   "cell_type": "code",
   "execution_count": 19,
   "id": "bd1a0008-2cb3-4d50-8330-10fd073888af",
   "metadata": {},
   "outputs": [
    {
     "name": "stdout",
     "output_type": "stream",
     "text": [
      "0.046511627906976744\n"
     ]
    }
   ],
   "source": [
    "# Calculate overall controversiality average\n",
    "from pyspark.sql.functions import sum\n",
    "averageControversialityFullSet = democratReddits.select(sum(\"controversiality\")).first()[0] / democratReddits.count()\n",
    "\n",
    "print(averageControversialityFullSet)"
   ]
  },
  {
   "cell_type": "code",
   "execution_count": 5,
   "id": "8c72e50e-10b7-4e5c-a25e-f3055a9b7452",
   "metadata": {},
   "outputs": [
    {
     "name": "stderr",
     "output_type": "stream",
     "text": [
      "[Stage 5:=============================>                             (1 + 1) / 2]\r"
     ]
    },
    {
     "name": "stdout",
     "output_type": "stream",
     "text": [
      "+------------+---------------------+----------------+\n",
      "|subreddit_id|avg(controversiality)|count(subreddit)|\n",
      "+------------+---------------------+----------------+\n",
      "|        t5_6| 0.046511627906976744|            1075|\n",
      "+------------+---------------------+----------------+\n",
      "\n",
      "None\n"
     ]
    },
    {
     "name": "stderr",
     "output_type": "stream",
     "text": [
      "                                                                                \r"
     ]
    }
   ],
   "source": [
    "\n",
    "contro_subreddit = reddit_df.select(\"controversiality\", \"subreddit_id\", \"subreddit\")\n",
    "\n",
    "avg_controversial = contro_subreddit.groupBy(\"subreddit_id\").agg(avg(\"controversiality\"), count(\"subreddit\"))\n",
    "    \n",
    "avg_controversial_sorted = avg_controversial.orderBy(\"avg(controversiality)\",ascending=False)\n",
    "print(avg_controversial_sorted.show(10))\n",
    "\n"
   ]
  },
  {
   "cell_type": "code",
   "execution_count": 12,
   "id": "167448db-5c14-4c34-b398-f43a9af5043c",
   "metadata": {},
   "outputs": [
    {
     "name": "stderr",
     "output_type": "stream",
     "text": [
      "[Stage 9:=============================>                             (1 + 1) / 2]\r"
     ]
    },
    {
     "name": "stdout",
     "output_type": "stream",
     "text": [
      "+------------+\n",
      "|subreddit_id|\n",
      "+------------+\n",
      "|        t5_6|\n",
      "+------------+\n",
      "\n",
      "None\n"
     ]
    },
    {
     "name": "stderr",
     "output_type": "stream",
     "text": [
      "                                                                                \r"
     ]
    }
   ],
   "source": [
    "test = reddit_df.select(\"controversiality\").where(col(\"controversiality\") == 1)\n",
    "print(avg_controversial_sorted.select(\"subreddit_id\").show(10))"
   ]
  },
  {
   "cell_type": "code",
   "execution_count": 25,
   "id": "113cdb79-1c73-4502-9ce6-0fab5f3a051f",
   "metadata": {},
   "outputs": [
    {
     "name": "stdout",
     "output_type": "stream",
     "text": [
      "+------------+---------------------+----------------+\n",
      "|subreddit_id|avg(controversiality)|count(subreddit)|\n",
      "+------------+---------------------+----------------+\n",
      "|        t5_6| 0.046511627906976744|            1075|\n",
      "+------------+---------------------+----------------+\n",
      "\n",
      "None\n"
     ]
    }
   ],
   "source": [
    "print(avg_controversial_sorted.show(10))\n"
   ]
  },
  {
   "cell_type": "code",
   "execution_count": 12,
   "id": "57d57cc3-965b-4f16-bcc1-5379ac1cf665",
   "metadata": {},
   "outputs": [],
   "source": [
    "spark_context.stop()"
   ]
  },
  {
   "cell_type": "code",
   "execution_count": null,
   "id": "e19520aa-73f5-4cc8-9141-f461fdd074ff",
   "metadata": {},
   "outputs": [],
   "source": []
  }
 ],
 "metadata": {
  "kernelspec": {
   "display_name": "Python 3 (ipykernel)",
   "language": "python",
   "name": "python3"
  },
  "language_info": {
   "codemirror_mode": {
    "name": "ipython",
    "version": 3
   },
   "file_extension": ".py",
   "mimetype": "text/x-python",
   "name": "python",
   "nbconvert_exporter": "python",
   "pygments_lexer": "ipython3",
   "version": "3.8.10"
  }
 },
 "nbformat": 4,
 "nbformat_minor": 5
}
